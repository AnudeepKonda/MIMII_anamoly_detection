{
 "cells": [
  {
   "cell_type": "code",
   "execution_count": 3,
   "id": "236a6702-afb2-494d-9655-e8285ee11e5d",
   "metadata": {},
   "outputs": [],
   "source": [
    "import os, sys\n",
    "import glob\n",
    "import torch\n",
    "import torchvision.transforms as T\n",
    "from torch.utils.data import Dataset, DataLoader\n",
    "import librosa\n",
    "import numpy as np\n",
    "import matplotlib.pyplot as plt\n",
    "from tqdm import tqdm\n",
    "from PIL import Image"
   ]
  },
  {
   "cell_type": "code",
   "execution_count": 79,
   "id": "17263ee3-e77f-4cb5-bb76-233b41015554",
   "metadata": {},
   "outputs": [],
   "source": [
    "def convert_to_spectrogram(wav_file_path):\n",
    "    signal, sampling_rate = load_sound_file(wav_file_path)\n",
    "\n",
    "    #Mel spectrogram calculation\n",
    "    db_mels = []\n",
    "    for channel in range(signal.shape[0]):\n",
    "        mel = librosa.feature.melspectrogram(signal[channel], sr=sampling_rate, n_fft=self.n_fft, hop_length=self.hop_length,\\\n",
    "                                         n_mels=self.n_mels)\n",
    "        db_mel = librosa.power_to_db(mel, ref=np.max)\n",
    "        db_mels.append(db_mel)\n",
    "\n",
    "    return np.array(db_mels), np.array(sampling_rate)\n",
    "        \n",
    "    \n",
    "def load_sound_file(wav_name, mono=False, channel=0):\n",
    "    multi_channel_data, sampling_rate = librosa.load(wav_name, sr=None, mono=mono)\n",
    "    signal = np.array(multi_channel_data)\n",
    "\n",
    "    return signal, sampling_rate\n",
    "\n",
    "def scale_minmax(X, min=0.0, max=1.0):\n",
    "    \"\"\"\n",
    "    Minmax scaler for a numpy array\n",
    "    \n",
    "    PARAMS\n",
    "    ======\n",
    "        X (numpy array) - array to scale\n",
    "        min (float) - minimum value of the scaling range (default: 0.0)\n",
    "        max (float) - maximum value of the scaling range (default: 1.0)\n",
    "    \"\"\"\n",
    "    X_std = (X - X.min()) / (X.max() - X.min())\n",
    "    X_scaled = X_std * (max - min) + min\n",
    "    return X_scaled\n",
    "\n",
    "def generate_spectrograms(list_files, output_dir, n_mels=64, n_fft=2048, hop_length=512):\n",
    "    \"\"\"\n",
    "    Generate spectrograms pictures from a list of WAV files. Each sound\n",
    "    file in WAV format is processed to generate a spectrogram that will \n",
    "    be saved as a PNG file.\n",
    "    \n",
    "    PARAMS\n",
    "    ======\n",
    "        list_files (list) - list of WAV files to process\n",
    "        output_dir (string) - root directory to save the spectrogram to\n",
    "        n_mels (integer) - number of Mel buckets (default: 64)\n",
    "        n_fft (integer) - length of the windowed signal to compute the short Fourier transform on\n",
    "        hop_length (integer) - window increment when computing STFT\n",
    "        \n",
    "    RETURNS\n",
    "    =======\n",
    "        files (list) - list of spectrogram files (PNG format)\n",
    "    \"\"\"\n",
    "    files = []\n",
    "    \n",
    "    # Loops through all files:\n",
    "    for index in tqdm(range(len(list_files)), desc=f'Building spectrograms for {output_dir}'):\n",
    "        \n",
    "        # Building file name for the spectrogram PNG picture:\n",
    "        file = list_files[index]\n",
    "        path_components = file.split('/')\n",
    "        \n",
    "        # machine_id = id_00, id_02...\n",
    "        # sound_type = normal or abnormal\n",
    "        # wav_file is the name of the original sound file without the .wav extension\n",
    "        machine_id, sound_type = path_components[-3], path_components[-2]\n",
    "        machine = path_components[-5]\n",
    "        wav_file = path_components[-1].split('.')[0]\n",
    "        filename =  machine + '-' + sound_type + '-' + machine_id + '-' + wav_file + '.png'\n",
    "        \n",
    "        # Example: train/normal/normal-id_02-00000259.png:\n",
    "        filename = os.path.join(output_dir, sound_type, filename)\n",
    "        #print(filename)\n",
    "        if not os.path.exists(filename):\n",
    "            FRAME_SIZE = 2048\n",
    "            HOP_SIZE = 512\n",
    "            \n",
    "            # Loading sound file and generate Mel spectrogram:\n",
    "            signal, sr = librosa.load(file)#load_sound_file(file)\n",
    "            #print(signal.shape)\n",
    "            \n",
    "            spec = librosa.stft(signal, n_fft=FRAME_SIZE, hop_length=HOP_SIZE)\n",
    "            spec = spec.astype(np.float16)\n",
    "            #print(spec.dtype)\n",
    "            #print(\"Memory size of numpy array in bytes:\",spec.size * spec.itemsize)\n",
    "            np.savez_compressed(filename[:-4] + \"-ch\" + str(0), spec)\n",
    "            #print(spec.shape, sr)\n",
    "            \n",
    "#             for ctr in range(signal.shape[0]):\n",
    "#                 mels = librosa.feature.melspectrogram(y=signal[ctr], sr=sr, n_mels=n_mels, n_fft=n_fft, hop_length=hop_length)\n",
    "#                 mels = librosa.power_to_db(mels, ref=np.max)\n",
    "\n",
    "#                 # Preprocess the image: min-max, putting \n",
    "#                 # low frequency at bottom and inverting to \n",
    "#                 # match higher energy with black pixels:\n",
    "#                 img = scale_minmax(mels, 0, 255).astype(np.uint8)\n",
    "#                 img = np.flip(img, axis=0)\n",
    "#                 img = 255 - img\n",
    "#                 img = Image.fromarray(img)\n",
    "\n",
    "#                 # Saving the picture generated to disk:\n",
    "#                 img.save(filename[:-4] + \"-ch\" + str(ctr+1) + \".png\" )\n",
    "\n",
    "#         files.append(filename)\n",
    "        \n",
    "    return files"
   ]
  },
  {
   "cell_type": "code",
   "execution_count": 74,
   "id": "0bedbc78-0272-491b-a5b4-9dfa60ecdf3e",
   "metadata": {},
   "outputs": [],
   "source": [
    "#Please edit as needed. This path should have the following directory structure\n",
    "#    base_data_path -> {0,6,neg6}_dB_{fan,pump,valve,slider}/{fan,pump,valve,slider}/*.wav\n",
    "base_data_path = \"/home/ubuntu/anudeep/machine_sound/\"\n",
    "\n",
    "def get_data_path(SNR, machine, ID):\n",
    "    return glob.glob(base_data_path + \\\n",
    "                     \"{}_{}/*/id_{}/*/*\".format(SNR, machine, ID))\n",
    "\n",
    "# Direct paths to audio files\n",
    "paths = get_data_path('0_dB', 'fan', '00')\n",
    "paths = paths[0:2]\n",
    "paths.sort()"
   ]
  },
  {
   "cell_type": "code",
   "execution_count": 81,
   "id": "2f9db5de-c58a-4c06-93df-d944c061d468",
   "metadata": {},
   "outputs": [],
   "source": [
    "paths = glob.glob(base_data_path + \"*/*/*/*/*\")"
   ]
  },
  {
   "cell_type": "code",
   "execution_count": null,
   "id": "a6a4e5b0-83f6-4567-ae78-d4d9eb13939d",
   "metadata": {},
   "outputs": [
    {
     "name": "stderr",
     "output_type": "stream",
     "text": [
      "Building spectrograms for /home/ubuntu/anudeep/machine_sound/image_data_2/:   0%|          | 0/54057 [00:00<?, ?it/s]<ipython-input-79-b84b98965758>:82: ComplexWarning: Casting complex values to real discards the imaginary part\n",
      "  spec = spec.astype(np.float16)\n",
      "Building spectrograms for /home/ubuntu/anudeep/machine_sound/image_data_2/:   2%|▏         | 1148/54057 [05:09<3:50:25,  3.83it/s]"
     ]
    }
   ],
   "source": [
    "a = generate_spectrograms(paths, \"/home/ubuntu/anudeep/machine_sound/image_data_2/\")"
   ]
  },
  {
   "cell_type": "code",
   "execution_count": null,
   "id": "edd1c547-8805-4902-92ad-cf723853b81e",
   "metadata": {},
   "outputs": [],
   "source": [
    "paths = glob.glob(base_data_path + \"*/*/*/*/*\")\n",
    "len(paths)"
   ]
  },
  {
   "cell_type": "code",
   "execution_count": null,
   "id": "5176d70f-fb75-41de-b17b-d6226c888662",
   "metadata": {},
   "outputs": [],
   "source": [
    "paths = glob.glob(base_data_path + \"*/*/*/*/*\")\n",
    "len(paths)"
   ]
  },
  {
   "cell_type": "code",
   "execution_count": 8,
   "id": "headed-morris",
   "metadata": {},
   "outputs": [],
   "source": [
    "imgs = glob.glob('/home/ubuntu/anudeep/machine_sound/image_data/normal/*')"
   ]
  },
  {
   "cell_type": "code",
   "execution_count": 10,
   "id": "tested-symposium",
   "metadata": {},
   "outputs": [],
   "source": [
    "imgs.sort()"
   ]
  },
  {
   "cell_type": "code",
   "execution_count": 14,
   "id": "sapphire-velvet",
   "metadata": {},
   "outputs": [],
   "source": [
    "unique_dBs = []\n",
    "\n",
    "for k in imgs:\n",
    "    _t = k.split('/')[-1].split('-')[0]\n",
    "    if _t not in unique_dBs:\n",
    "        unique_dBs.append(_t)"
   ]
  },
  {
   "cell_type": "code",
   "execution_count": 15,
   "id": "demographic-modern",
   "metadata": {},
   "outputs": [
    {
     "data": {
      "text/plain": [
       "['0_dB_fan',\n",
       " '0_dB_pump',\n",
       " '0_dB_slider',\n",
       " '0_dB_valve',\n",
       " '6_dB_fan',\n",
       " '6_dB_pump',\n",
       " '6_dB_slider',\n",
       " '6_dB_valve',\n",
       " 'neg6_dB_fan',\n",
       " 'neg6_dB_pump',\n",
       " 'neg6_dB_slider',\n",
       " 'neg6_dB_valve']"
      ]
     },
     "execution_count": 15,
     "metadata": {},
     "output_type": "execute_result"
    }
   ],
   "source": [
    "unique_dBs"
   ]
  },
  {
   "cell_type": "code",
   "execution_count": 65,
   "id": "decent-reward",
   "metadata": {},
   "outputs": [],
   "source": [
    "a = np.load('./abnormal/0_dB_fan-abnormal-id_00-00000030-ch0.npy')"
   ]
  },
  {
   "cell_type": "code",
   "execution_count": 67,
   "id": "usual-oasis",
   "metadata": {},
   "outputs": [
    {
     "data": {
      "text/plain": [
       "((), dtype('float32'))"
      ]
     },
     "execution_count": 67,
     "metadata": {},
     "output_type": "execute_result"
    }
   ],
   "source": [
    "a.shape, a.dtype"
   ]
  }
 ],
 "metadata": {
  "kernelspec": {
   "display_name": "pytorch_machine",
   "language": "python",
   "name": "pytorch_machine"
  },
  "language_info": {
   "codemirror_mode": {
    "name": "ipython",
    "version": 3
   },
   "file_extension": ".py",
   "mimetype": "text/x-python",
   "name": "python",
   "nbconvert_exporter": "python",
   "pygments_lexer": "ipython3",
   "version": "3.8.8"
  }
 },
 "nbformat": 4,
 "nbformat_minor": 5
}
