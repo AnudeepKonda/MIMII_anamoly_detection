{
 "cells": [
  {
   "cell_type": "code",
   "execution_count": 1,
   "id": "interested-consultation",
   "metadata": {
    "scrolled": true
   },
   "outputs": [
    {
     "name": "stdout",
     "output_type": "stream",
     "text": [
      "Reading files in fan machine type\n",
      "Reading files in id_00\n",
      "Reading files in id_06\n",
      "Reading files in id_04\n",
      "Reading files in id_02\n",
      "Reading files in pump machine type\n",
      "Reading files in id_00\n",
      "Reading files in id_06\n",
      "Reading files in id_04\n",
      "Reading files in id_02\n",
      "Reading files in valve machine type\n",
      "Reading files in id_00\n",
      "Reading files in id_06\n",
      "Reading files in id_04\n",
      "Reading files in id_02\n",
      "Reading files in slider machine type\n",
      "Reading files in id_00\n",
      "Reading files in id_06\n",
      "Reading files in id_04\n",
      "Reading files in id_02\n",
      "   machine_type id_type operation_type  wav_filename  \\\n",
      "0           fan   id_00       abnormal  00000000.wav   \n",
      "18        valve   id_06       abnormal  00000000.wav   \n",
      "28       slider   id_04       abnormal  00000000.wav   \n",
      "14         pump   id_02       abnormal  00000000.wav   \n",
      "23        valve   id_02         normal  00000000.wav   \n",
      "\n",
      "                                        wav_file_path  \n",
      "0   /home/ubuntu/anudeep/machine_sound_classificat...  \n",
      "18  /home/ubuntu/anudeep/machine_sound_classificat...  \n",
      "28  /home/ubuntu/anudeep/machine_sound_classificat...  \n",
      "14  /home/ubuntu/anudeep/machine_sound_classificat...  \n",
      "23  /home/ubuntu/anudeep/machine_sound_classificat...  \n",
      "All df shape  (32, 5)\n",
      "Train df shape  (25, 5)\n",
      "Test df shape  (7, 5)\n",
      "train: 25, val: 7\n"
     ]
    }
   ],
   "source": [
    "import os\n",
    "import gc\n",
    "import time\n",
    "import shutil\n",
    "import random\n",
    "import warnings\n",
    "import typing as tp\n",
    "from pathlib import Path\n",
    "from contextlib import contextmanager\n",
    "\n",
    "from tqdm import tqdm\n",
    "import yaml\n",
    "from joblib import delayed, Parallel\n",
    "\n",
    "import cv2\n",
    "import librosa\n",
    "import audioread\n",
    "import soundfile as sf\n",
    "\n",
    "import numpy as np\n",
    "import pandas as pd\n",
    "\n",
    "from sklearn.metrics import f1_score\n",
    "from sklearn.model_selection import train_test_split\n",
    "\n",
    "import torch\n",
    "import torch.nn as nn\n",
    "import torch.nn.functional as F\n",
    "import torch.utils.data as data\n",
    "#import resnest.torch as resnest_torch\n",
    "\n",
    "from dataset import SpectrogramDataset\n",
    "\n",
    "\n",
    "\n",
    "ROOT = Path.cwd()\n",
    "INPUT_ROOT = ROOT / \"data/wav_data/\"\n",
    "\n",
    "\n",
    "tmp_list = []\n",
    "for decibel_value in INPUT_ROOT.iterdir():\n",
    "    for machine in decibel_value.iterdir():\n",
    "        if machine.is_file():\n",
    "            continue\n",
    "        machine_type = machine.stem\n",
    "        print(f\"Reading files in {machine_type} machine type\")\n",
    "        for id in machine.iterdir():\n",
    "            if id.is_file():\n",
    "                continue\n",
    "            id_type = id.stem\n",
    "            print(f\"Reading files in {id_type}\")\n",
    "            for operation in id.iterdir():\n",
    "                if operation.is_file():\n",
    "                    continue\n",
    "                operation_type = operation.stem\n",
    "                assert operation_type in [\"normal\", \"abnormal\"], \"Expected normal or abnormal\"\n",
    "                for wav_f in operation.iterdir():\n",
    "                    if wav_f.is_file() and wav_f.suffix == \".wav\":\n",
    "                        tmp_list.append( [machine_type, id_type, operation_type,\n",
    "                                          wav_f.name, wav_f.as_posix()])\n",
    "\n",
    "train_all = pd.DataFrame(\n",
    "    tmp_list, columns=[\"machine_type\", \"id_type\", \"operation_type\",\n",
    "                        \"wav_filename\", \"wav_file_path\"])\n",
    "\n",
    "print(train_all.sample(5))\n",
    "print('All df shape ', train_all.shape)\n",
    "\n",
    "train_df, val_df = train_test_split(train_all, test_size=0.2, random_state=1213)\n",
    "\n",
    "print('Train df shape ', train_df.shape)\n",
    "print('Test df shape ', val_df.shape)\n",
    "\n",
    "\n",
    "def get_loaders_for_training(args_dataset: tp.Dict, args_loader: tp.Dict, \\\n",
    "                             train_file_list: tp.List[str], val_file_list: tp.List[str]):\n",
    "    # # make dataset\n",
    "    train_dataset = SpectrogramDataset(train_file_list, **args_dataset)\n",
    "    val_dataset = SpectrogramDataset(val_file_list, **args_dataset)\n",
    "    # # make dataloader\n",
    "    train_loader = data.DataLoader(train_dataset, **args_loader[\"train\"])\n",
    "    val_loader = data.DataLoader(val_dataset, **args_loader[\"val\"])\n",
    "\n",
    "    return train_loader, val_loader, train_dataset, val_dataset\n",
    "\n",
    "\n",
    "train_file_list = train_df[[\"wav_file_path\", \"machine_type\"]].values.tolist()\n",
    "val_file_list = val_df[[\"wav_file_path\", \"machine_type\"]].values.tolist()\n",
    "\n",
    "print(\"train: {}, val: {}\".format(len(train_file_list), len(val_file_list)))\n",
    "\n",
    "with open(\"./test_config.yaml\") as settings_str:\n",
    "    settings = yaml.safe_load(settings_str)\n",
    "\n",
    "# for k, v in settings.items():\n",
    "#     print(\"[{}]\".format(k))\n",
    "#     print(v)\n",
    "\n",
    "# # # get loader\n",
    "train_loader, val_loader, train_dataset, val_dataset = get_loaders_for_training(\n",
    "    settings[\"dataset\"][\"params\"], settings[\"loader\"], train_file_list, val_file_list)\n",
    "\n",
    "\n",
    "# # for batch_idx, (data, target) in enumerate(train_loader):\n",
    "# #     #data, target = data.to(device), target.to(device)\n",
    "# #     print(data, target)\n",
    "# train_iter = iter(train_loader)\n",
    "# data, target = train_iter.next()\n",
    "# print(data,target)\n",
    "# print(\"END\")\n",
    "\n"
   ]
  },
  {
   "cell_type": "code",
   "execution_count": 2,
   "id": "understanding-victory",
   "metadata": {},
   "outputs": [
    {
     "name": "stdout",
     "output_type": "stream",
     "text": [
      "(8, 224, 1095, 3)\n"
     ]
    }
   ],
   "source": [
    "data, target = train_dataset.__getitem__(3)\n",
    "print(data.shape)"
   ]
  },
  {
   "cell_type": "code",
   "execution_count": 7,
   "id": "canadian-arrangement",
   "metadata": {
    "scrolled": true
   },
   "outputs": [
    {
     "ename": "AttributeError",
     "evalue": "module 'librosa' has no attribute 'display'",
     "output_type": "error",
     "traceback": [
      "\u001b[0;31m---------------------------------------------------------------------------\u001b[0m",
      "\u001b[0;31mAttributeError\u001b[0m                            Traceback (most recent call last)",
      "\u001b[0;32m<ipython-input-7-17afc7f59834>\u001b[0m in \u001b[0;36m<module>\u001b[0;34m\u001b[0m\n\u001b[1;32m      3\u001b[0m     \u001b[0mfig\u001b[0m \u001b[0;34m=\u001b[0m \u001b[0mplt\u001b[0m\u001b[0;34m.\u001b[0m\u001b[0mfigure\u001b[0m\u001b[0;34m(\u001b[0m\u001b[0mfigsize\u001b[0m\u001b[0;34m=\u001b[0m\u001b[0;34m(\u001b[0m\u001b[0;36m24\u001b[0m\u001b[0;34m,\u001b[0m \u001b[0;36m6\u001b[0m\u001b[0;34m)\u001b[0m\u001b[0;34m)\u001b[0m\u001b[0;34m\u001b[0m\u001b[0;34m\u001b[0m\u001b[0m\n\u001b[1;32m      4\u001b[0m     \u001b[0mplt\u001b[0m\u001b[0;34m.\u001b[0m\u001b[0msubplot\u001b[0m\u001b[0;34m(\u001b[0m\u001b[0;36m1\u001b[0m\u001b[0;34m,\u001b[0m \u001b[0;36m2\u001b[0m\u001b[0;34m,\u001b[0m \u001b[0;36m1\u001b[0m\u001b[0;34m)\u001b[0m\u001b[0;34m\u001b[0m\u001b[0;34m\u001b[0m\u001b[0m\n\u001b[0;32m----> 5\u001b[0;31m     \u001b[0mlibrosa\u001b[0m\u001b[0;34m.\u001b[0m\u001b[0mdisplay\u001b[0m\u001b[0;34m.\u001b[0m\u001b[0mspecshow\u001b[0m\u001b[0;34m(\u001b[0m\u001b[0mdata\u001b[0m\u001b[0;34m[\u001b[0m\u001b[0mk\u001b[0m\u001b[0;34m,\u001b[0m\u001b[0;34m:\u001b[0m\u001b[0;34m,\u001b[0m\u001b[0;34m:\u001b[0m\u001b[0;34m,\u001b[0m\u001b[0;36m0\u001b[0m\u001b[0;34m]\u001b[0m\u001b[0;34m,\u001b[0m \u001b[0msr\u001b[0m\u001b[0;34m=\u001b[0m\u001b[0;36m160000\u001b[0m\u001b[0;34m,\u001b[0m \u001b[0mhop_length\u001b[0m\u001b[0;34m=\u001b[0m\u001b[0;36m512\u001b[0m\u001b[0;34m,\u001b[0m \u001b[0mx_axis\u001b[0m\u001b[0;34m=\u001b[0m\u001b[0;34m'time'\u001b[0m\u001b[0;34m,\u001b[0m \u001b[0my_axis\u001b[0m\u001b[0;34m=\u001b[0m\u001b[0;34m'mel'\u001b[0m\u001b[0;34m,\u001b[0m \u001b[0mcmap\u001b[0m\u001b[0;34m=\u001b[0m\u001b[0;34m'viridis'\u001b[0m\u001b[0;34m)\u001b[0m\u001b[0;34m\u001b[0m\u001b[0;34m\u001b[0m\u001b[0m\n\u001b[0m\u001b[1;32m      6\u001b[0m     \u001b[0mplt\u001b[0m\u001b[0;34m.\u001b[0m\u001b[0mtitle\u001b[0m\u001b[0;34m(\u001b[0m\u001b[0;34m'Machine #id_00 - Normal signal'\u001b[0m\u001b[0;34m)\u001b[0m\u001b[0;34m\u001b[0m\u001b[0;34m\u001b[0m\u001b[0m\n\u001b[1;32m      7\u001b[0m     \u001b[0mplt\u001b[0m\u001b[0;34m.\u001b[0m\u001b[0mxlabel\u001b[0m\u001b[0;34m(\u001b[0m\u001b[0;34m'Time (s)'\u001b[0m\u001b[0;34m)\u001b[0m\u001b[0;34m\u001b[0m\u001b[0;34m\u001b[0m\u001b[0m\n",
      "\u001b[0;31mAttributeError\u001b[0m: module 'librosa' has no attribute 'display'"
     ]
    },
    {
     "data": {
      "image/png": "[encoded data removed]",
      "text/plain": [
       "<Figure size 1728x432 with 1 Axes>"
      ]
     },
     "metadata": {
      "needs_background": "light"
     },
     "output_type": "display_data"
    }
   ],
   "source": [
    "import matplotlib.pyplot as plt\n",
    "\n",
    "for k in range(8):\n",
    "    fig = plt.figure(figsize=(24, 6))\n",
    "    plt.subplot(1, 2, 1)\n",
    "    librosa.display.specshow(data[k,:,:,0], sr=160000, hop_length=512, x_axis='time', y_axis='mel', cmap='viridis')\n",
    "    plt.title('Machine #id_00 - Normal signal')\n",
    "    plt.xlabel('Time (s)')\n",
    "    plt.ylabel('Frequency (Hz)')\n",
    "    plt.colorbar(format='%+2.0f dB')"
   ]
  }
 ],
 "metadata": {
  "kernelspec": {
   "display_name": "pytorch_machine",
   "language": "python",
   "name": "pytorch_machine"
  },
  "language_info": {
   "codemirror_mode": {
    "name": "ipython",
    "version": 3
   },
   "file_extension": ".py",
   "mimetype": "text/x-python",
   "name": "python",
   "nbconvert_exporter": "python",
   "pygments_lexer": "ipython3",
   "version": "3.8.8"
  }
 },
 "nbformat": 4,
 "nbformat_minor": 5
}
